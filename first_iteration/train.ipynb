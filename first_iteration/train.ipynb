{
 "cells": [
  {
   "cell_type": "code",
   "execution_count": 71,
   "metadata": {},
   "outputs": [
    {
     "name": "stdout",
     "output_type": "stream",
     "text": [
      "mps\n"
     ]
    }
   ],
   "source": [
    "import torch\n",
    "import torch.nn as nn\n",
    "from torch.optim import Adam\n",
    "from torch.utils.data import Dataset, DataLoader\n",
    "from torchsummary import summary\n",
    "from sklearn.model_selection import train_test_split\n",
    "from sklearn.metrics import accuracy_score\n",
    "from sklearn.preprocessing import StandardScaler\n",
    "import matplotlib.pyplot as plt\n",
    "import pandas as pd\n",
    "import numpy as np\n",
    "from sklearn.metrics import mean_absolute_error, r2_score\n",
    "\n",
    "\n",
    "device = 'mps' if torch.mps.is_available() else 'cpu'\n",
    "print(device)"
   ]
  },
  {
   "cell_type": "code",
   "execution_count": 42,
   "metadata": {},
   "outputs": [],
   "source": [
    "data_df = pd.read_csv(\"clean_data.csv\")\n",
    "data_df.dropna(inplace=True)\n",
    "original_df = data_df.copy()"
   ]
  },
  {
   "cell_type": "code",
   "execution_count": null,
   "metadata": {},
   "outputs": [],
   "source": [
    "x = data_df.drop([\"blue_score\", \"red_score\"], axis=1).values\n",
    "y = data_df[[\"blue_score\", \"red_score\"]].values\n",
    "x"
   ]
  },
  {
   "cell_type": "code",
   "execution_count": 49,
   "metadata": {},
   "outputs": [],
   "source": [
    "x_train, x_test, y_train, y_test = train_test_split(x, y, test_size=0.15,)\n"
   ]
  },
  {
   "cell_type": "code",
   "execution_count": 72,
   "metadata": {},
   "outputs": [],
   "source": [
    "scaler = StandardScaler()\n",
    "x_train = scaler.fit_transform(x_train)\n",
    "x_test = scaler.fit_transform(x_test)"
   ]
  },
  {
   "cell_type": "code",
   "execution_count": 73,
   "metadata": {},
   "outputs": [],
   "source": [
    "class dataset(Dataset):\n",
    "    def __init__(self, x, y):\n",
    "        self.x = torch.tensor(x, dtype=torch.float32).to(device)\n",
    "        self.y = torch.tensor(y, dtype=torch.float32).to(device)\n",
    "        \n",
    "    def __len__(self):\n",
    "        return len(self.x)\n",
    "    \n",
    "    def __getitem__(self, index):\n",
    "        return self.x[index], self.y[index]"
   ]
  },
  {
   "cell_type": "code",
   "execution_count": 74,
   "metadata": {},
   "outputs": [],
   "source": [
    "train_data = dataset(x_train, y_train)\n",
    "test_data = dataset(x_test, y_test)"
   ]
  },
  {
   "cell_type": "code",
   "execution_count": 109,
   "metadata": {},
   "outputs": [],
   "source": [
    "BATCH_SIZE = 16"
   ]
  },
  {
   "cell_type": "code",
   "execution_count": 110,
   "metadata": {},
   "outputs": [],
   "source": [
    "train_dl = DataLoader(train_data, batch_size=BATCH_SIZE, shuffle=True)\n",
    "test_dl = DataLoader(test_data, batch_size=BATCH_SIZE, )"
   ]
  },
  {
   "cell_type": "code",
   "execution_count": 111,
   "metadata": {},
   "outputs": [],
   "source": [
    "class MyNet(nn.Module):\n",
    "    def __init__(self, input_dim):\n",
    "        super().__init__()\n",
    "        \n",
    "        self.model = nn.Sequential(\n",
    "            nn.Linear(input_dim, 128),\n",
    "            nn.ReLU(),\n",
    "            nn.Linear(128, 256),\n",
    "            nn.ReLU(),\n",
    "            nn.Linear(256, 512),\n",
    "            nn.ReLU(),\n",
    "            nn.Linear(512, 1024),\n",
    "            nn.ReLU(),\n",
    "            nn.Dropout(0.1),\n",
    "            nn.Linear(1024, 512),\n",
    "            nn.ReLU(),\n",
    "            nn.Linear(512, 256),\n",
    "            nn.ReLU(),\n",
    "            nn.Linear(256, 128),\n",
    "            nn.ReLU(),\n",
    "            nn.Linear(128, 64),\n",
    "            nn.ReLU(),\n",
    "            nn.Linear(64, 32),\n",
    "            nn.ReLU(),\n",
    "            nn.Linear(32, 2) \n",
    "        )\n",
    "\n",
    "    def forward(self, x):\n",
    "        return self.model(x)\n"
   ]
  },
  {
   "cell_type": "code",
   "execution_count": 112,
   "metadata": {},
   "outputs": [],
   "source": [
    "INPUT_DIM = x_train.shape[1]\n",
    "model = MyNet(INPUT_DIM).to(device)"
   ]
  },
  {
   "cell_type": "code",
   "execution_count": 113,
   "metadata": {},
   "outputs": [],
   "source": [
    "criterion = nn.MSELoss()\n",
    "optimizer = Adam(model.parameters(), lr=1e-4)"
   ]
  },
  {
   "cell_type": "code",
   "execution_count": 114,
   "metadata": {},
   "outputs": [],
   "source": [
    "def mean_absolute_error(y_true, y_pred):\n",
    "    return torch.mean(torch.abs(y_true - y_pred)).item()\n",
    "\n",
    "def regression_accuracy(y_true, y_pred, threshold=5.0):\n",
    "    correct = torch.sum(torch.all(torch.abs(y_true - y_pred) < threshold, dim=1)).item()\n",
    "    total = y_true.shape[0]\n",
    "    return correct / total\n"
   ]
  },
  {
   "cell_type": "code",
   "execution_count": null,
   "metadata": {},
   "outputs": [],
   "source": [
    "EPOCHS = 100\n",
    "\n",
    "total_loss_train_plot = []\n",
    "total_loss_val_plot = []\n",
    "total_acc_train_plot = []\n",
    "total_acc_val_plot = []\n",
    "\n",
    "for epoch in range(EPOCHS):\n",
    "    model.train()\n",
    "    running_loss = 0.0\n",
    "    running_mae = 0.0\n",
    "\n",
    "    for inputs, labels in train_dl:\n",
    "        optimizer.zero_grad()\n",
    "        outputs = model(inputs)\n",
    "        loss = criterion(outputs, labels)\n",
    "        loss.backward()\n",
    "        optimizer.step()\n",
    "        \n",
    "        running_loss += loss.item() * inputs.size(0)\n",
    "        running_mae += mean_absolute_error(labels, outputs) * inputs.size(0)\n",
    "        \n",
    "    epoch_loss = running_loss / len(train_dl.dataset)\n",
    "    epoch_mae = running_mae / len(train_dl.dataset)\n",
    "    \n",
    "    print(f'Epoch {epoch+1}/{EPOCHS}, Loss (MSE): {epoch_loss:.4f}, MAE: {epoch_mae:.4f}')\n",
    "\n"
   ]
  },
  {
   "cell_type": "code",
   "execution_count": 107,
   "metadata": {},
   "outputs": [
    {
     "name": "stdout",
     "output_type": "stream",
     "text": [
      "Test Loss (MSE): 1120.9338, Test MAE: 24.5247, Regression Accuracy (error<5.0): 2.10%\n"
     ]
    }
   ],
   "source": [
    "model.eval()\n",
    "with torch.no_grad():\n",
    "    test_loss = 0.0\n",
    "    test_mae = 0.0\n",
    "    all_true = []\n",
    "    all_preds = []\n",
    "    for inputs, labels in test_dl:\n",
    "        outputs = model(inputs)\n",
    "        loss = criterion(outputs, labels)\n",
    "        test_loss += loss.item() * inputs.size(0)\n",
    "        test_mae += mean_absolute_error(labels, outputs) * inputs.size(0)\n",
    "        all_true.append(labels)\n",
    "        all_preds.append(outputs)\n",
    "        \n",
    "    test_loss /= len(test_dl.dataset)\n",
    "    test_mae /= len(test_dl.dataset)\n",
    "    \n",
    "      \n",
    "    all_true = torch.cat(all_true, dim=0)\n",
    "    all_preds = torch.cat(all_preds, dim=0)\n",
    "    acc = regression_accuracy(all_true, all_preds, threshold=5.0)\n",
    "    \n",
    "    print(f'Test Loss (MSE): {test_loss:.4f}, Test MAE: {test_mae:.4f}, Regression Accuracy (error<{5.0}): {acc*100:.2f}%')\n"
   ]
  },
  {
   "cell_type": "code",
   "execution_count": 157,
   "metadata": {},
   "outputs": [],
   "source": [
    "def inferencia(fila, model, scaler, threshold=5.0):\n",
    "   \n",
    "\n",
    "    features = fila.drop(labels=[\"blue_score\", \"red_score\"]).values.reshape(1, -1)\n",
    "\n",
    "    features_scaled = scaler.transform(features)\n",
    "\n",
    "    tensor_features = torch.tensor(features_scaled, dtype=torch.float32).to(device)\n",
    "\n",
    "    model.eval()\n",
    "    with torch.no_grad():\n",
    "        prediction = model(tensor_features)\n",
    "\n",
    "    predicted_scores = prediction.cpu().numpy().flatten()\n",
    "\n",
    "    true_scores = fila[[\"blue_score\", \"red_score\"]].values.astype(np.float32)\n",
    "\n",
    "    error_abs = np.abs(true_scores - predicted_scores)\n",
    "\n",
    "    accuracy = 100.0 if (error_abs < threshold).all() else 0.0\n",
    "\n",
    "    actual_winner = \"blue\" if true_scores[0] > true_scores[1] else \"red\"\n",
    "    \n",
    "    pred_winner = \"blue\" if predicted_scores[0] > predicted_scores[1] else \"red\"\n",
    "    # print(\n",
    "    #     f\"Predicción -> blue_score: {predicted_scores[0]:.2f}, red_score: {predicted_scores[1]:.2f}\"\n",
    "    # )\n",
    "    # print(\n",
    "    #     f\"Valor real -> blue_score: {true_scores[0]:.2f}, red_score: {true_scores[1]:.2f}\"\n",
    "    # )\n",
    "    \n",
    "    # print(\"Win prediction was\", actual_winner == pred_winner)\n",
    "    return actual_winner == pred_winner"
   ]
  },
  {
   "cell_type": "code",
   "execution_count": 155,
   "metadata": {},
   "outputs": [
    {
     "name": "stdout",
     "output_type": "stream",
     "text": [
      "Predicción -> blue_score: 46.20, red_score: 66.70\n",
      "Valor real -> blue_score: 48.00, red_score: 86.00\n",
      "Win prediction was True\n"
     ]
    },
    {
     "data": {
      "text/plain": [
       "True"
      ]
     },
     "execution_count": 155,
     "metadata": {},
     "output_type": "execute_result"
    }
   ],
   "source": [
    "fila_ejemplo = original_df.iloc[301]\n",
    "inferencia(fila_ejemplo, model, scaler)"
   ]
  },
  {
   "cell_type": "code",
   "execution_count": 159,
   "metadata": {},
   "outputs": [
    {
     "name": "stdout",
     "output_type": "stream",
     "text": [
      "0.8568084276238783\n"
     ]
    }
   ],
   "source": [
    "train_df, test_df = train_test_split(data_df, test_size=0.15, random_state=42)\n",
    "\n",
    "correct_wins = 0\n",
    "for i in range(len(train_df)):\n",
    "    fila = train_df.iloc[i] \n",
    "    win = inferencia(fila, model, scaler, threshold=5.0)\n",
    "    if win:\n",
    "        correct_wins += 1\n",
    "    \n",
    "print(correct_wins / len(train_df))"
   ]
  },
  {
   "cell_type": "code",
   "execution_count": 147,
   "metadata": {},
   "outputs": [],
   "source": [
    "torch.save(model.state_dict(), \"model.pt\")"
   ]
  }
 ],
 "metadata": {
  "kernelspec": {
   "display_name": ".venv",
   "language": "python",
   "name": "python3"
  },
  "language_info": {
   "codemirror_mode": {
    "name": "ipython",
    "version": 3
   },
   "file_extension": ".py",
   "mimetype": "text/x-python",
   "name": "python",
   "nbconvert_exporter": "python",
   "pygments_lexer": "ipython3",
   "version": "3.11.10"
  }
 },
 "nbformat": 4,
 "nbformat_minor": 2
}
